{
 "cells": [
  {
   "metadata": {},
   "cell_type": "markdown",
   "source": "<div style=\"text-align: center;\"> <h1> FURIA Know Your Fan </h1> </div>",
   "id": "71cbc009a6d1ea09"
  },
  {
   "metadata": {},
   "cell_type": "markdown",
   "source": [
    "<div style=\"text-align: center;\"> <h3> Todos os pip, ferramentas e bibliotecas utilizadas </h3> </div>\n",
    "\n",
    "- pip install python-dotenv ipywidgets streamlit"
   ],
   "id": "ef80bf6c08fb5459"
  },
  {
   "metadata": {},
   "cell_type": "markdown",
   "source": "<div style=\"text-align: center;\"> <h3> Chave API Oculta (Arquivo .env) </h3> </div>",
   "id": "964ac0276a6352a1"
  },
  {
   "metadata": {},
   "cell_type": "code",
   "source": [
    "from dotenv import load_dotenv\n",
    "import os\n",
    "\n",
    "# Carregar variáveis do .env\n",
    "load_dotenv()\n",
    "\n",
    "chave_api = os.getenv('API_KEY')"
   ],
   "id": "b7ba830f86466a8c",
   "outputs": [],
   "execution_count": null
  },
  {
   "metadata": {},
   "cell_type": "markdown",
   "source": [
    "<div style=\"text-align: center;\"> <h3>Coleta de Dados Básicos e Interesses Relacionados à FURIA</h3> </div>\n",
    "  \n",
    "- **Formulário Inicial:** Criar um formulário em Jupyter Notebook (usando `ipywidgets` ou `Streamlit`) para capturar dados pessoais fundamentais: nome, CPF, endereço, data de nascimento, email etc. Validar formato de CPF (biblioteca `python-bcpf` ou validação via regex) e outros campos para evitar erros de digitação.  \n",
    "\n",
    "- **Interesses e Atividades em e-sports:** Incluir no notebook seções ou perguntas interativas sobre interesses em e-sports, times preferidos (FURIA), jogos mais acompanhados, frequência de eventos assistidos, ingressos ou periféricos adquiridos no último ano. Utilizar `pandas` para estruturar as respostas em um DataFrame. Poder-se-á simular coleta de dados de APIs públicas de eventos (por exemplo, dados de torneios CS:GO) ou pedir ao usuário que importe seu histórico (como um CSV de compras) para preencher esse perfil de maneira realista.  \n",
    "\n",
    "- **Compras Relacionadas:** Se for aplicável, permitir o upload de extratos simplificados ou listas de compras (como merch de teams e-sports). Usar `pandas` ou `openpyxl` para ler esses arquivos e filtrar itens de interesse (palavras-chave relacionadas a jogos, marcas de e-sports, etc)."
   ],
   "id": "12aac8180eeb5b5c"
  },
  {
   "metadata": {},
   "cell_type": "code",
   "source": [
    "                                                        # Formulário Via Notepad\n",
    "\n",
    "# Importando bibliotecas necessárias\n",
    "import ipywidgets as widgets\n",
    "from IPython.display import display, clear_output\n",
    "import pandas as pd\n",
    "import re\n",
    "\n",
    "# Função para validar CPF\n",
    "def validar_cpf(cpf):\n",
    "    cpf = re.sub('[^0-9]', '', cpf)\n",
    "    if len(cpf) != 11 or cpf == cpf[0] * 11:\n",
    "        return False\n",
    "    return True\n",
    "\n",
    "# Widgets para coleta de dados básicos\n",
    "nome = widgets.Text(description=\"Nome:\")\n",
    "cpf = widgets.Text(description=\"CPF:\")\n",
    "endereco = widgets.Text(description=\"Endereço:\")\n",
    "email = widgets.Text(description=\"Email:\")\n",
    "\n",
    "# Interesses focados na FURIA\n",
    "jogos_furia = widgets.SelectMultiple(\n",
    "    options=['CS:GO', 'Valorant', 'League of Legends', 'Rocket League', 'Outro'],\n",
    "    description='Jogos FURIA'\n",
    ")\n",
    "\n",
    "produtos_furia = widgets.SelectMultiple(\n",
    "    options=['Camisa', 'Boné', 'Mousepad', 'Moletons', 'Outro'],\n",
    "    description='Produtos'\n",
    ")\n",
    "\n",
    "eventos_furia = widgets.RadioButtons(\n",
    "    options=['Nunca participei', 'Eventos online', 'Eventos presenciais', 'Ambos'],\n",
    "    description='Eventos'\n",
    ")\n",
    "\n",
    "# Upload de histórico de compras\n",
    "upload_compras = widgets.FileUpload(\n",
    "    accept='.csv, .xlsx', multiple=False, description='Upload Compras'\n",
    ")\n",
    "\n",
    "# Botão para salvar dados\n",
    "botao_salvar = widgets.Button(description=\"Salvar Dados\", button_style='success')\n",
    "\n",
    "# Função para salvar e mostrar os dados\n",
    "def salvar_dados(b):\n",
    "    clear_output()\n",
    "    if not validar_cpf(cpf.value):\n",
    "        print(\"CPF inválido! Corrija e tente novamente.\")\n",
    "        display(cpf)\n",
    "        return\n",
    "    \n",
    "    dados_usuario = {\n",
    "        'Nome': nome.value,\n",
    "        'CPF': cpf.value,\n",
    "        'Endereço': endereco.value,\n",
    "        'Email': email.value,\n",
    "        'Jogos da FURIA que acompanha': jogos_furia.value,\n",
    "        'Produtos da FURIA adquiridos': produtos_furia.value,\n",
    "        'Participação em eventos da FURIA': eventos_furia.value\n",
    "    }\n",
    "    \n",
    "    df_usuario = pd.DataFrame([dados_usuario])\n",
    "    display(df_usuario)\n",
    "    \n",
    "    # Se houver upload de compras\n",
    "    if upload_compras.value:\n",
    "        print(\"\\nArquivo de compras recebido! Analisando...\\n\")\n",
    "        for filename, fileinfo in upload_compras.value.items():\n",
    "            content = fileinfo['content']\n",
    "            try:\n",
    "                if filename.endswith('.csv'):\n",
    "                    compras_df = pd.read_csv(pd.io.common.BytesIO(content))\n",
    "                elif filename.endswith('.xlsx'):\n",
    "                    compras_df = pd.read_excel(pd.io.common.BytesIO(content))\n",
    "                else:\n",
    "                    print(\"Formato de arquivo não suportado.\")\n",
    "                    return\n",
    "                # Procurar compras relacionadas à FURIA\n",
    "                palavras_chave = ['FURIA', 'furia.gg', 'camisa furia', 'boné furia', 'e-sports furia']\n",
    "                compras_filtradas = compras_df[\n",
    "                    compras_df.apply(lambda linha: any(palavra.lower() in str(linha).lower() for palavra in palavras_chave), axis=1)\n",
    "                ]\n",
    "                print(\"Compras relacionadas à FURIA encontradas:\")\n",
    "                display(compras_filtradas)\n",
    "            except Exception as e:\n",
    "                print(f\"Erro ao processar arquivo: {e}\")\n",
    "\n",
    "botao_salvar.on_click(salvar_dados)\n",
    "\n",
    "# Exibir widgets\n",
    "display(nome, cpf, endereco, email, jogos_furia, produtos_furia, eventos_furia, upload_compras, botao_salvar)\n"
   ],
   "id": "9fb8d95c8835e98b",
   "outputs": [],
   "execution_count": null
  },
  {
   "metadata": {},
   "cell_type": "code",
   "source": [
    "                                                # Rodando no Navegador\n",
    "\n",
    "import http.server\n",
    "import socketserver\n",
    "import webbrowser\n",
    "import json\n",
    "import uuid\n",
    "import os\n",
    "\n",
    "PORT = 8080\n",
    "DATA_DIR = \"form_data\"\n",
    "\n",
    "class MyHandler(http.server.SimpleHTTPRequestHandler):\n",
    "    def do_POST(self):\n",
    "        if self.path == '/submit':\n",
    "            content_length = int(self.headers['Content-Length'])\n",
    "            post_data = self.rfile.read(content_length)\n",
    "\n",
    "            # Decodificar os dados recebidos\n",
    "            post_data = post_data.decode('utf-8')\n",
    "\n",
    "            # Gerar ID único\n",
    "            user_id = str(uuid.uuid4())\n",
    "\n",
    "            # Salvar os dados crus em JSON\n",
    "            if not os.path.exists(DATA_DIR):\n",
    "                os.makedirs(DATA_DIR)\n",
    "            \n",
    "            file_path = os.path.join(DATA_DIR, f\"{user_id}.json\")\n",
    "            with open(file_path, 'w', encoding='utf-8') as f:\n",
    "                json.dump({'raw_data': post_data}, f, indent=4, ensure_ascii=False)  # Salvar como um dicionário com a chave 'raw_data'\n",
    "\n",
    "            print(f\"\\n✅ Dados crus salvos em: {file_path}\")\n",
    "\n",
    "            # Enviar resposta simples de sucesso\n",
    "            self.send_response(200)\n",
    "            self.send_header('Content-type', 'application/json')\n",
    "            self.end_headers()\n",
    "            self.wfile.write(json.dumps({'status': 'success', 'message': 'Dados recebidos e salvos com sucesso!'}).encode('utf-8'))\n",
    "        else:\n",
    "            self.send_error(404)\n",
    "\n",
    "def run_server():\n",
    "    with socketserver.TCPServer((\"\", PORT), MyHandler) as httpd:\n",
    "        print(f\"Servidor rodando em http://localhost:{PORT}\")\n",
    "        webbrowser.open(f\"http://localhost:{PORT}/form.html\")\n",
    "        httpd.serve_forever()\n",
    "\n",
    "if __name__ == \"__main__\":\n",
    "    run_server()"
   ],
   "id": "dfc413e49429d9df",
   "outputs": [],
   "execution_count": null
  },
  {
   "metadata": {},
   "cell_type": "markdown",
   "source": [
    "<div style=\"text-align: center;\"> <h3>Validação de Identidade com Abordagem de IA</h3> </div>\n",
    "\n",
    "- **Upload de Documentos:** Incluir um widget de upload de arquivos de imagem (RG, CNH ou passaporte) e, opcionalmente, uma selfie do usuário.  \n",
    "- **OCR e Extração de Dados:** Utilizar uma biblioteca de OCR como `pytesseract` ou `easyocr` para extrair texto do documento. Comparar nome e CPF extraídos com os dados básicos fornecidos para consistência.  \n",
    "- **Reconhecimento Facial:** Para fortalecer a validação, aplicar uma técnica de reconhecimento facial simples. Usar bibliotecas como `face_recognition` ou `OpenCV` com modelos pré-treinados para detectar rostos na selfie e na foto do documento, e então verificar se pertencem à mesma pessoa (por exemplo, comparando descritores faciais).  \n",
    "- **Feedback de Validação:** Exibir no notebook resultados da validação (válido/inválido) com base na correspondência de texto e face. Fornecer mensagens orientativas caso haja inconsistências (ex: “CPF não confere com o documento enviado”)."
   ],
   "id": "ca6996e942e24f04"
  },
  {
   "metadata": {},
   "cell_type": "code",
   "source": "",
   "id": "c82efa4ee6dc53ce",
   "outputs": [],
   "execution_count": null
  },
  {
   "metadata": {},
   "cell_type": "markdown",
   "source": [
    "<div style=\"text-align: center;\"> <h3>Integração com Redes Sociais (Simulada)</h3> </div>\n",
    "\n",
    "- **Linkagem de Contas:** Na ausência de integrações reais, simular o processo solicitando ao usuário os nomes de usuário ou perfis em redes sociais (Twitter, Facebook, Instagram). Criar células de código comentadas que demonstram como usar APIs (ex: `tweepy` para Twitter, `facebook-sdk` para Facebook) para conectar as contas.  \n",
    "- **Extração de Atividades Relacionadas a e-sports:** Para cada rede social simulada, mostrar como coletar dados relevantes: por exemplo, obter os últimos *tweets* do usuário e filtrar menções a e-sports ou FURIA; listar as páginas seguidas no Facebook com temas de gaming; ou verificar hashtags usadas em posts do Instagram. Usar `requests` e `BeautifulSoup` ou clientes de API para simulação. Armazenar essas informações em DataFrames para análise.  \n",
    "- **Monitoramento de Interações:** Demonstrar código que analisa curtidas, comentários ou retweets em publicações de e-sports (fingindo as permissões de API). Por exemplo, usar `tweepy` para buscar tweets que mencionem FURIA ou eventos de e-sports que o usuário retuitou ou comentou.  "
   ],
   "id": "9d2e96c7714096a8"
  },
  {
   "metadata": {},
   "cell_type": "code",
   "source": "",
   "id": "f9dc903631095407",
   "outputs": [],
   "execution_count": null
  },
  {
   "metadata": {},
   "cell_type": "markdown",
   "source": [
    "<div style=\"text-align: center;\"> <h3>Enriquecimento de Perfil com Dados Sociais e Multimídia</h3> </div>\n",
    "\n",
    "- **Análise de Comentários:** Para integrar comentários prévios do usuário no YouTube, Reddit e Twitter, incluir blocos que consumam APIs ou dados locais de análise anterior (supondo que existam). Usar `google-api-python-client` para extrair comentários de vídeos de e-sports do YouTube, `PRAW` para posts/comentários no Reddit, e `tweepy` ou dados simulados para tweets.  \n",
    "- **Processamento de Linguagem Natural:** Aplicar NLP para entender o perfil do usuário: usar bibliotecas como `transformers` ou `spaCy` para classificar sentimento, identificar tópicos ou palavras-chave frequentes nesses comentários. Por exemplo, gerar um gráfico de palavras-chave mais mencionadas em e-sports, ou uma análise de sentimento geral sobre jogos específicos.  \n",
    "- **Integração de Informações:** Combinar esses insights com os interesses declarados pelo usuário. Exibir visualmente (via `matplotlib` ou `seaborn`) uma nuvem de palavras ou gráfico que mostre as categorias de e-sports mais relevantes para o perfil (baseado em interesses + análise de comentários).  \n",
    "- **Perfis em Sites de e-Sports:** Permitir que o usuário insira links para seus perfis em plataformas de e-sports (como GameBattles, HLTV, Liquipedia). Usar `requests` e `BeautifulSoup` para raspar detalhes do perfil (jogos, histórico de partidas). Em seguida, aplicar um modelo de IA (ex: `transformers` BERT) para classificar se o conteúdo textual do perfil é relevante às preferências do usuário (por exemplo, buscando termos de jogos citados pelo usuário). Mostrar se há “match” entre interesses do usuário e informações do perfil scraped.  "
   ],
   "id": "de5023f63bcefe89"
  },
  {
   "metadata": {},
   "cell_type": "code",
   "source": "",
   "id": "11cc151832ad30fd",
   "outputs": [],
   "execution_count": null
  },
  {
   "metadata": {},
   "cell_type": "markdown",
   "source": [
    "<div style=\"text-align: center;\"> <h3>Estruturação do Notebook</h3> </div>\n",
    "\n",
    "- Organizar o notebook em seções claras conforme as etapas acima: **Coleta de Dados**, **Validação de Identidade**, **Integração de Redes Sociais**, **Enriquecimento com Dados Sociais**, **Conclusão**.  \n",
    "- Incluir explicações breves em cada seção usando células Markdown, resumindo o objetivo daquela etapa. Combinar descrições em texto com células de código demonstrativas.  \n",
    "- Sugerir bibliotecas específicas no contexto de cada etapa: por exemplo, mencionar `ipywidgets` ou `streamlit` na coleta de dados, `pytesseract`/`OpenCV` na validação de documentos, `tweepy`/`PRAW`/`BeautifulSoup` na integração social, e `transformers`/`spaCy` na análise de linguagem."
   ],
   "id": "54e65090fbbfcb5a"
  },
  {
   "metadata": {},
   "cell_type": "code",
   "source": "",
   "id": "b255b8c4d4857ffd",
   "outputs": [],
   "execution_count": null
  },
  {
   "metadata": {},
   "cell_type": "markdown",
   "source": [
    "<div style=\"text-align: center;\"> <h3>Dicas de Apresentação do Protótipo</h3> </div>\n",
    "\n",
    "- **Formatação Atraente:** Usar cabeçalhos (`#`, `##`), listas e imagens (logotipos de e-sports, ícones de redes sociais) para tornar o notebook visualmente agradável. Células Markdown bem elaboradas ajudam na legibilidade.  \n",
    "- **Interatividade:** Incluir elementos interativos (sliders, botões de upload, caixas de seleção) via `ipywidgets` para simular um fluxo real de uso. Isso torna a demonstração dinâmica mesmo no ambiente de notebook.  \n",
    "- **Visualização de Dados:** Aproveitar gráficos (matplotlib, seaborn ou plotly) para mostrar perfis de interesse ou resultados das análises de comentários. Um gráfico de barras ou nuvem de palavras torna o conteúdo mais didático.  \n",
    "- **Narração do Código:** Inserir comentários explicativos e outputs de exemplo que guiem o avaliador pelo processo passo a passo. Ao final, apresentar um breve resumo dos resultados obtidos para evidenciar que todos os requisitos foram atendidos.  "
   ],
   "id": "bfadd7aa567531f2"
  },
  {
   "metadata": {},
   "cell_type": "markdown",
   "source": [
    "<div style=\"text-align: center;\"> <h3>Conclusão</h3> </div>\n",
    "\n",
    "Este plano garante uma implementação completa dos requisitos do desafio, integrando coleta de informações pessoais e de interesse em e-sports, validação de identidade baseada em IA, simulação de integração social e enriquecimento de perfil com dados externos. A organização em seções claras, o uso de bibliotecas especializadas (ex: **Streamlit/ipywidgets** para interfaces, **OpenCV/face_recognition** para validação, **transformers/spaCy** para IA, **pandas** para dados) e as sugestões de apresentação asseguram uma entrega alinhada e de fácil acompanhamento, mesmo no formato de notebook."
   ],
   "id": "ab37fafd0bfde477"
  }
 ],
 "metadata": {
  "kernelspec": {
   "display_name": "Python 3",
   "language": "python",
   "name": "python3"
  },
  "language_info": {
   "codemirror_mode": {
    "name": "ipython",
    "version": 2
   },
   "file_extension": ".py",
   "mimetype": "text/x-python",
   "name": "python",
   "nbconvert_exporter": "python",
   "pygments_lexer": "ipython2",
   "version": "2.7.6"
  }
 },
 "nbformat": 4,
 "nbformat_minor": 5
}
