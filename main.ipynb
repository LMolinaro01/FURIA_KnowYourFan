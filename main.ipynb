{
 "cells": [
  {
   "metadata": {},
   "cell_type": "markdown",
   "source": "<div style=\"text-align: center;\"> <h1> FURIA Know Your Fan </h1> </div>",
   "id": "71cbc009a6d1ea09"
  },
  {
   "metadata": {},
   "cell_type": "markdown",
   "source": [
    "<div style=\"text-align: center;\"> <h3> Todos os pip, ferramentas e bibliotecas utilizadas </h3> </div>\n",
    "\n",
    "- pip install python-dotenv ipywidgets cryptography"
   ],
   "id": "ef80bf6c08fb5459"
  },
  {
   "metadata": {},
   "cell_type": "markdown",
   "source": "<div style=\"text-align: center;\"> <h3> Chave API Oculta (Arquivo .env) </h3> </div>",
   "id": "964ac0276a6352a1"
  },
  {
   "metadata": {},
   "cell_type": "code",
   "source": [
    "from dotenv import load_dotenv\n",
    "import os\n",
    "\n",
    "# Carregar variáveis do .env\n",
    "load_dotenv()\n",
    "\n",
    "chave_api = os.getenv('API_KEY')"
   ],
   "id": "b7ba830f86466a8c",
   "outputs": [],
   "execution_count": null
  },
  {
   "metadata": {},
   "cell_type": "markdown",
   "source": [
    "<div style=\"text-align: center;\"> <h3>Coleta de Dados Básicos e Interesses Relacionados à FURIA</h3> </div>\n",
    "  \n",
    "- **Formulário Inicial:** Criar um formulário em Jupyter Notebook (usando `ipywidgets` ou `Streamlit`) para capturar dados pessoais fundamentais: nome, CPF, endereço, data de nascimento, email etc. Validar formato de CPF (biblioteca `python-bcpf` ou validação via regex) e outros campos para evitar erros de digitação.  \n",
    "\n",
    "- **Interesses e Atividades em e-sports:** Incluir no notebook seções ou perguntas interativas sobre interesses em e-sports, times preferidos (FURIA), jogos mais acompanhados, frequência de eventos assistidos, ingressos ou periféricos adquiridos no último ano. Utilizar `pandas` para estruturar as respostas em um DataFrame. Poder-se-á simular coleta de dados de APIs públicas de eventos (por exemplo, dados de torneios CS:GO) ou pedir ao usuário que importe seu histórico (como um CSV de compras) para preencher esse perfil de maneira realista.  \n",
    "\n",
    "- **Compras Relacionadas:** Se for aplicável, permitir o upload de extratos simplificados ou listas de compras (como merch de teams e-sports). Usar `pandas` ou `openpyxl` para ler esses arquivos e filtrar itens de interesse (palavras-chave relacionadas a jogos, marcas de e-sports, etc)."
   ],
   "id": "12aac8180eeb5b5c"
  },
  {
   "metadata": {},
   "cell_type": "code",
   "source": [
    "                                    # Rodando no Navegador\n",
    "\n",
    "import http.server\n",
    "import socketserver\n",
    "import webbrowser\n",
    "import json\n",
    "import uuid\n",
    "import os\n",
    "import hashlib \n",
    "\n",
    "PORT = 8080\n",
    "DATA_DIR = \"form_data\"\n",
    "\n",
    "class MyHandler(http.server.SimpleHTTPRequestHandler):\n",
    "    def do_POST(self):\n",
    "        if self.path == '/submit':\n",
    "            content_length = int(self.headers['Content-Length'])\n",
    "            post_data_bytes = self.rfile.read(content_length)\n",
    "\n",
    "            # Decodificar os dados recebidos para string\n",
    "            post_data_str = post_data_bytes.decode('utf-8')\n",
    "\n",
    "            try:\n",
    "                # Tentar carregar os dados como JSON\n",
    "                dados_recebidos = json.loads(post_data_str)\n",
    "\n",
    "                # Verificar se a chave 'cpf' existe\n",
    "                if 'cpf' in dados_recebidos:\n",
    "                    cpf_original = dados_recebidos['cpf']\n",
    "                    # Criar o hash SHA-256 do CPF\n",
    "                    # É importante usar um 'salt' na vida real para maior segurança,\n",
    "                    # mas para simplificar, usaremos um hash direto aqui.\n",
    "                    # Lembre-se de codificar a string para bytes antes de hashear.\n",
    "                    cpf_hashed = hashlib.sha256(cpf_original.encode('utf-8')).hexdigest()\n",
    "                    # Substituir o CPF original pelo hash\n",
    "                    dados_recebidos['cpf'] = cpf_hashed\n",
    "                else:\n",
    "                     print(\"Aviso: Chave 'cpf' não encontrada nos dados recebidos.\")\n",
    "\n",
    "                # Gerar ID único\n",
    "                user_id = str(uuid.uuid4())\n",
    "\n",
    "                # Criar o diretório se não existir\n",
    "                if not os.path.exists(DATA_DIR):\n",
    "                    os.makedirs(DATA_DIR)\n",
    "\n",
    "                # Caminho do arquivo para salvar\n",
    "                file_path = os.path.join(DATA_DIR, f\"{user_id}.json\")\n",
    "\n",
    "                # Salvar os dados modificados (com CPF hasheado) em JSON\n",
    "                with open(file_path, 'w', encoding='utf-8') as f:\n",
    "                    # Salvar o dicionário Python diretamente como JSON\n",
    "                    json.dump(dados_recebidos, f, indent=4, ensure_ascii=False)\n",
    "\n",
    "                print(f\"\\n✅ Dados processados (CPF com hash) salvos em: {file_path}\")\n",
    "\n",
    "                # Enviar resposta de sucesso\n",
    "                self.send_response(200)\n",
    "                self.send_header('Content-type', 'application/json')\n",
    "                self.end_headers()\n",
    "                self.wfile.write(json.dumps({'status': 'success', 'message': 'Dados recebidos e salvos com sucesso!'}).encode('utf-8'))\n",
    "\n",
    "            except json.JSONDecodeError:\n",
    "                print(\"\\n❌ Erro: Não foi possível decodificar os dados JSON recebidos.\")\n",
    "                self.send_error(400, \"Bad Request: Invalid JSON data\")\n",
    "            except Exception as e:\n",
    "                print(f\"\\n❌ Erro ao processar a requisição: {e}\")\n",
    "                self.send_error(500, \"Internal Server Error\")\n",
    "\n",
    "        else:\n",
    "            # Se o caminho não for /submit, servir arquivos estáticos (como form.html)\n",
    "            # ou retornar 404 se o arquivo não for encontrado.\n",
    "            # A chamada super() cuida disso para requisições GET.\n",
    "            # Para POSTs em outros caminhos, retornamos 404.\n",
    "            super().do_GET() # Tenta servir arquivos se for GET\n",
    "            # Se chegou aqui num POST não tratado, é 404\n",
    "            # self.send_error(404) # Comentado pois o super() pode já ter respondido\n",
    "\n",
    "def run_server():\n",
    "    with socketserver.TCPServer((\"\", PORT), MyHandler) as httpd:\n",
    "        print(f\"Servidor rodando em http://localhost:{PORT}\")\n",
    "        webbrowser.open(f\"http://localhost:{PORT}/form.html\")\n",
    "        httpd.serve_forever()\n",
    "\n",
    "if __name__ == \"__main__\":\n",
    "    run_server()"
   ],
   "id": "dfc413e49429d9df",
   "outputs": [
    {
     "ename": "KeyboardInterrupt",
     "evalue": "",
     "output_type": "error",
     "traceback": [
      "\u001B[31m---------------------------------------------------------------------------\u001B[39m",
      "\u001B[31mKeyboardInterrupt\u001B[39m                         Traceback (most recent call last)",
      "\u001B[36mCell\u001B[39m\u001B[36m \u001B[39m\u001B[32mIn[9]\u001B[39m\u001B[32m, line 86\u001B[39m\n\u001B[32m     83\u001B[39m         httpd.serve_forever()\n\u001B[32m     85\u001B[39m \u001B[38;5;28;01mif\u001B[39;00m \u001B[34m__name__\u001B[39m == \u001B[33m\"\u001B[39m\u001B[33m__main__\u001B[39m\u001B[33m\"\u001B[39m:\n\u001B[32m---> \u001B[39m\u001B[32m86\u001B[39m     run_server()\n",
      "\u001B[36mCell\u001B[39m\u001B[36m \u001B[39m\u001B[32mIn[9]\u001B[39m\u001B[32m, line 83\u001B[39m, in \u001B[36mrun_server\u001B[39m\u001B[34m()\u001B[39m\n\u001B[32m     81\u001B[39m \u001B[38;5;28mprint\u001B[39m(\u001B[33mf\u001B[39m\u001B[33m\"\u001B[39m\u001B[33mServidor rodando em http://localhost:\u001B[39m\u001B[38;5;132;01m{\u001B[39;00mPORT\u001B[38;5;132;01m}\u001B[39;00m\u001B[33m\"\u001B[39m)\n\u001B[32m     82\u001B[39m webbrowser.open(\u001B[33mf\u001B[39m\u001B[33m\"\u001B[39m\u001B[33mhttp://localhost:\u001B[39m\u001B[38;5;132;01m{\u001B[39;00mPORT\u001B[38;5;132;01m}\u001B[39;00m\u001B[33m/form.html\u001B[39m\u001B[33m\"\u001B[39m)\n\u001B[32m---> \u001B[39m\u001B[32m83\u001B[39m httpd.serve_forever()\n",
      "\u001B[36mFile \u001B[39m\u001B[32m~\\miniconda3\\Lib\\socketserver.py:240\u001B[39m, in \u001B[36mBaseServer.serve_forever\u001B[39m\u001B[34m(self, poll_interval)\u001B[39m\n\u001B[32m    238\u001B[39m                 \u001B[38;5;28;01mbreak\u001B[39;00m\n\u001B[32m    239\u001B[39m             \u001B[38;5;28;01mif\u001B[39;00m ready:\n\u001B[32m--> \u001B[39m\u001B[32m240\u001B[39m                 \u001B[38;5;28mself\u001B[39m._handle_request_noblock()\n\u001B[32m    242\u001B[39m             \u001B[38;5;28mself\u001B[39m.service_actions()\n\u001B[32m    243\u001B[39m \u001B[38;5;28;01mfinally\u001B[39;00m:\n",
      "\u001B[36mFile \u001B[39m\u001B[32m~\\miniconda3\\Lib\\socketserver.py:318\u001B[39m, in \u001B[36mBaseServer._handle_request_noblock\u001B[39m\u001B[34m(self)\u001B[39m\n\u001B[32m    316\u001B[39m \u001B[38;5;28;01mif\u001B[39;00m \u001B[38;5;28mself\u001B[39m.verify_request(request, client_address):\n\u001B[32m    317\u001B[39m     \u001B[38;5;28;01mtry\u001B[39;00m:\n\u001B[32m--> \u001B[39m\u001B[32m318\u001B[39m         \u001B[38;5;28mself\u001B[39m.process_request(request, client_address)\n\u001B[32m    319\u001B[39m     \u001B[38;5;28;01mexcept\u001B[39;00m \u001B[38;5;167;01mException\u001B[39;00m:\n\u001B[32m    320\u001B[39m         \u001B[38;5;28mself\u001B[39m.handle_error(request, client_address)\n",
      "\u001B[36mFile \u001B[39m\u001B[32m~\\miniconda3\\Lib\\socketserver.py:349\u001B[39m, in \u001B[36mBaseServer.process_request\u001B[39m\u001B[34m(self, request, client_address)\u001B[39m\n\u001B[32m    343\u001B[39m \u001B[38;5;28;01mdef\u001B[39;00m\u001B[38;5;250m \u001B[39m\u001B[34mprocess_request\u001B[39m(\u001B[38;5;28mself\u001B[39m, request, client_address):\n\u001B[32m    344\u001B[39m \u001B[38;5;250m    \u001B[39m\u001B[33;03m\"\"\"Call finish_request.\u001B[39;00m\n\u001B[32m    345\u001B[39m \n\u001B[32m    346\u001B[39m \u001B[33;03m    Overridden by ForkingMixIn and ThreadingMixIn.\u001B[39;00m\n\u001B[32m    347\u001B[39m \n\u001B[32m    348\u001B[39m \u001B[33;03m    \"\"\"\u001B[39;00m\n\u001B[32m--> \u001B[39m\u001B[32m349\u001B[39m     \u001B[38;5;28mself\u001B[39m.finish_request(request, client_address)\n\u001B[32m    350\u001B[39m     \u001B[38;5;28mself\u001B[39m.shutdown_request(request)\n",
      "\u001B[36mFile \u001B[39m\u001B[32m~\\miniconda3\\Lib\\socketserver.py:362\u001B[39m, in \u001B[36mBaseServer.finish_request\u001B[39m\u001B[34m(self, request, client_address)\u001B[39m\n\u001B[32m    360\u001B[39m \u001B[38;5;28;01mdef\u001B[39;00m\u001B[38;5;250m \u001B[39m\u001B[34mfinish_request\u001B[39m(\u001B[38;5;28mself\u001B[39m, request, client_address):\n\u001B[32m    361\u001B[39m \u001B[38;5;250m    \u001B[39m\u001B[33;03m\"\"\"Finish one request by instantiating RequestHandlerClass.\"\"\"\u001B[39;00m\n\u001B[32m--> \u001B[39m\u001B[32m362\u001B[39m     \u001B[38;5;28mself\u001B[39m.RequestHandlerClass(request, client_address, \u001B[38;5;28mself\u001B[39m)\n",
      "\u001B[36mFile \u001B[39m\u001B[32m~\\miniconda3\\Lib\\http\\server.py:672\u001B[39m, in \u001B[36mSimpleHTTPRequestHandler.__init__\u001B[39m\u001B[34m(self, directory, *args, **kwargs)\u001B[39m\n\u001B[32m    670\u001B[39m     directory = os.getcwd()\n\u001B[32m    671\u001B[39m \u001B[38;5;28mself\u001B[39m.directory = os.fspath(directory)\n\u001B[32m--> \u001B[39m\u001B[32m672\u001B[39m \u001B[38;5;28msuper\u001B[39m().\u001B[34m__init__\u001B[39m(*args, **kwargs)\n",
      "\u001B[36mFile \u001B[39m\u001B[32m~\\miniconda3\\Lib\\socketserver.py:761\u001B[39m, in \u001B[36mBaseRequestHandler.__init__\u001B[39m\u001B[34m(self, request, client_address, server)\u001B[39m\n\u001B[32m    759\u001B[39m \u001B[38;5;28mself\u001B[39m.setup()\n\u001B[32m    760\u001B[39m \u001B[38;5;28;01mtry\u001B[39;00m:\n\u001B[32m--> \u001B[39m\u001B[32m761\u001B[39m     \u001B[38;5;28mself\u001B[39m.handle()\n\u001B[32m    762\u001B[39m \u001B[38;5;28;01mfinally\u001B[39;00m:\n\u001B[32m    763\u001B[39m     \u001B[38;5;28mself\u001B[39m.finish()\n",
      "\u001B[36mFile \u001B[39m\u001B[32m~\\miniconda3\\Lib\\http\\server.py:436\u001B[39m, in \u001B[36mBaseHTTPRequestHandler.handle\u001B[39m\u001B[34m(self)\u001B[39m\n\u001B[32m    433\u001B[39m \u001B[38;5;250m\u001B[39m\u001B[33;03m\"\"\"Handle multiple requests if necessary.\"\"\"\u001B[39;00m\n\u001B[32m    434\u001B[39m \u001B[38;5;28mself\u001B[39m.close_connection = \u001B[38;5;28;01mTrue\u001B[39;00m\n\u001B[32m--> \u001B[39m\u001B[32m436\u001B[39m \u001B[38;5;28mself\u001B[39m.handle_one_request()\n\u001B[32m    437\u001B[39m \u001B[38;5;28;01mwhile\u001B[39;00m \u001B[38;5;129;01mnot\u001B[39;00m \u001B[38;5;28mself\u001B[39m.close_connection:\n\u001B[32m    438\u001B[39m     \u001B[38;5;28mself\u001B[39m.handle_one_request()\n",
      "\u001B[36mFile \u001B[39m\u001B[32m~\\miniconda3\\Lib\\http\\server.py:404\u001B[39m, in \u001B[36mBaseHTTPRequestHandler.handle_one_request\u001B[39m\u001B[34m(self)\u001B[39m\n\u001B[32m    396\u001B[39m \u001B[38;5;250m\u001B[39m\u001B[33;03m\"\"\"Handle a single HTTP request.\u001B[39;00m\n\u001B[32m    397\u001B[39m \n\u001B[32m    398\u001B[39m \u001B[33;03mYou normally don't need to override this method; see the class\u001B[39;00m\n\u001B[32m   (...)\u001B[39m\u001B[32m    401\u001B[39m \n\u001B[32m    402\u001B[39m \u001B[33;03m\"\"\"\u001B[39;00m\n\u001B[32m    403\u001B[39m \u001B[38;5;28;01mtry\u001B[39;00m:\n\u001B[32m--> \u001B[39m\u001B[32m404\u001B[39m     \u001B[38;5;28mself\u001B[39m.raw_requestline = \u001B[38;5;28mself\u001B[39m.rfile.readline(\u001B[32m65537\u001B[39m)\n\u001B[32m    405\u001B[39m     \u001B[38;5;28;01mif\u001B[39;00m \u001B[38;5;28mlen\u001B[39m(\u001B[38;5;28mself\u001B[39m.raw_requestline) > \u001B[32m65536\u001B[39m:\n\u001B[32m    406\u001B[39m         \u001B[38;5;28mself\u001B[39m.requestline = \u001B[33m'\u001B[39m\u001B[33m'\u001B[39m\n",
      "\u001B[36mFile \u001B[39m\u001B[32m~\\miniconda3\\Lib\\socket.py:707\u001B[39m, in \u001B[36mSocketIO.readinto\u001B[39m\u001B[34m(self, b)\u001B[39m\n\u001B[32m    705\u001B[39m \u001B[38;5;28;01mwhile\u001B[39;00m \u001B[38;5;28;01mTrue\u001B[39;00m:\n\u001B[32m    706\u001B[39m     \u001B[38;5;28;01mtry\u001B[39;00m:\n\u001B[32m--> \u001B[39m\u001B[32m707\u001B[39m         \u001B[38;5;28;01mreturn\u001B[39;00m \u001B[38;5;28mself\u001B[39m._sock.recv_into(b)\n\u001B[32m    708\u001B[39m     \u001B[38;5;28;01mexcept\u001B[39;00m timeout:\n\u001B[32m    709\u001B[39m         \u001B[38;5;28mself\u001B[39m._timeout_occurred = \u001B[38;5;28;01mTrue\u001B[39;00m\n",
      "\u001B[31mKeyboardInterrupt\u001B[39m: "
     ]
    }
   ],
   "execution_count": 9
  },
  {
   "metadata": {},
   "cell_type": "markdown",
   "source": [
    "<div style=\"text-align: center;\"> <h3>Validação de Identidade com Abordagem de IA</h3> </div>\n",
    "\n",
    "- **Upload de Documentos:** Incluir um widget de upload de arquivos de imagem (RG, CNH ou passaporte) e, opcionalmente, uma selfie do usuário.  \n",
    "- **OCR e Extração de Dados:** Utilizar uma biblioteca de OCR como `pytesseract` ou `easyocr` para extrair texto do documento. Comparar nome e CPF extraídos com os dados básicos fornecidos para consistência.  \n",
    "- **Reconhecimento Facial:** Para fortalecer a validação, aplicar uma técnica de reconhecimento facial simples. Usar bibliotecas como `face_recognition` ou `OpenCV` com modelos pré-treinados para detectar rostos na selfie e na foto do documento, e então verificar se pertencem à mesma pessoa (por exemplo, comparando descritores faciais).  \n",
    "- **Feedback de Validação:** Exibir no notebook resultados da validação (válido/inválido) com base na correspondência de texto e face. Fornecer mensagens orientativas caso haja inconsistências (ex: “CPF não confere com o documento enviado”)."
   ],
   "id": "ca6996e942e24f04"
  },
  {
   "metadata": {},
   "cell_type": "code",
   "source": "",
   "id": "c82efa4ee6dc53ce",
   "outputs": [],
   "execution_count": null
  },
  {
   "metadata": {},
   "cell_type": "markdown",
   "source": [
    "<div style=\"text-align: center;\"> <h3>Integração com Redes Sociais (Simulada)</h3> </div>\n",
    "\n",
    "- **Linkagem de Contas:** Na ausência de integrações reais, simular o processo solicitando ao usuário os nomes de usuário ou perfis em redes sociais (Twitter, Facebook, Instagram). Criar células de código comentadas que demonstram como usar APIs (ex: `tweepy` para Twitter, `facebook-sdk` para Facebook) para conectar as contas.  \n",
    "- **Extração de Atividades Relacionadas a e-sports:** Para cada rede social simulada, mostrar como coletar dados relevantes: por exemplo, obter os últimos *tweets* do usuário e filtrar menções a e-sports ou FURIA; listar as páginas seguidas no Facebook com temas de gaming; ou verificar hashtags usadas em posts do Instagram. Usar `requests` e `BeautifulSoup` ou clientes de API para simulação. Armazenar essas informações em DataFrames para análise.  \n",
    "- **Monitoramento de Interações:** Demonstrar código que analisa curtidas, comentários ou retweets em publicações de e-sports (fingindo as permissões de API). Por exemplo, usar `tweepy` para buscar tweets que mencionem FURIA ou eventos de e-sports que o usuário retuitou ou comentou.  "
   ],
   "id": "9d2e96c7714096a8"
  },
  {
   "metadata": {},
   "cell_type": "code",
   "source": "",
   "id": "f9dc903631095407",
   "outputs": [],
   "execution_count": null
  },
  {
   "metadata": {},
   "cell_type": "markdown",
   "source": [
    "<div style=\"text-align: center;\"> <h3>Enriquecimento de Perfil com Dados Sociais e Multimídia</h3> </div>\n",
    "\n",
    "- **Análise de Comentários:** Para integrar comentários prévios do usuário no YouTube, Reddit e Twitter, incluir blocos que consumam APIs ou dados locais de análise anterior (supondo que existam). Usar `google-api-python-client` para extrair comentários de vídeos de e-sports do YouTube, `PRAW` para posts/comentários no Reddit, e `tweepy` ou dados simulados para tweets.  \n",
    "- **Processamento de Linguagem Natural:** Aplicar NLP para entender o perfil do usuário: usar bibliotecas como `transformers` ou `spaCy` para classificar sentimento, identificar tópicos ou palavras-chave frequentes nesses comentários. Por exemplo, gerar um gráfico de palavras-chave mais mencionadas em e-sports, ou uma análise de sentimento geral sobre jogos específicos.  \n",
    "- **Integração de Informações:** Combinar esses insights com os interesses declarados pelo usuário. Exibir visualmente (via `matplotlib` ou `seaborn`) uma nuvem de palavras ou gráfico que mostre as categorias de e-sports mais relevantes para o perfil (baseado em interesses + análise de comentários).  \n",
    "- **Perfis em Sites de e-Sports:** Permitir que o usuário insira links para seus perfis em plataformas de e-sports (como GameBattles, HLTV, Liquipedia). Usar `requests` e `BeautifulSoup` para raspar detalhes do perfil (jogos, histórico de partidas). Em seguida, aplicar um modelo de IA (ex: `transformers` BERT) para classificar se o conteúdo textual do perfil é relevante às preferências do usuário (por exemplo, buscando termos de jogos citados pelo usuário). Mostrar se há “match” entre interesses do usuário e informações do perfil scraped.  "
   ],
   "id": "de5023f63bcefe89"
  },
  {
   "metadata": {},
   "cell_type": "code",
   "source": "",
   "id": "11cc151832ad30fd",
   "outputs": [],
   "execution_count": null
  },
  {
   "metadata": {},
   "cell_type": "markdown",
   "source": [
    "<div style=\"text-align: center;\"> <h3>Estruturação do Notebook</h3> </div>\n",
    "\n",
    "- Organizar o notebook em seções claras conforme as etapas acima: **Coleta de Dados**, **Validação de Identidade**, **Integração de Redes Sociais**, **Enriquecimento com Dados Sociais**, **Conclusão**.  \n",
    "- Incluir explicações breves em cada seção usando células Markdown, resumindo o objetivo daquela etapa. Combinar descrições em texto com células de código demonstrativas.  \n",
    "- Sugerir bibliotecas específicas no contexto de cada etapa: por exemplo, mencionar `ipywidgets` ou `streamlit` na coleta de dados, `pytesseract`/`OpenCV` na validação de documentos, `tweepy`/`PRAW`/`BeautifulSoup` na integração social, e `transformers`/`spaCy` na análise de linguagem."
   ],
   "id": "54e65090fbbfcb5a"
  },
  {
   "metadata": {},
   "cell_type": "code",
   "source": "",
   "id": "b255b8c4d4857ffd",
   "outputs": [],
   "execution_count": null
  },
  {
   "metadata": {},
   "cell_type": "markdown",
   "source": [
    "<div style=\"text-align: center;\"> <h3>Dicas de Apresentação do Protótipo</h3> </div>\n",
    "\n",
    "- **Formatação Atraente:** Usar cabeçalhos (`#`, `##`), listas e imagens (logotipos de e-sports, ícones de redes sociais) para tornar o notebook visualmente agradável. Células Markdown bem elaboradas ajudam na legibilidade.  \n",
    "- **Interatividade:** Incluir elementos interativos (sliders, botões de upload, caixas de seleção) via `ipywidgets` para simular um fluxo real de uso. Isso torna a demonstração dinâmica mesmo no ambiente de notebook.  \n",
    "- **Visualização de Dados:** Aproveitar gráficos (matplotlib, seaborn ou plotly) para mostrar perfis de interesse ou resultados das análises de comentários. Um gráfico de barras ou nuvem de palavras torna o conteúdo mais didático.  \n",
    "- **Narração do Código:** Inserir comentários explicativos e outputs de exemplo que guiem o avaliador pelo processo passo a passo. Ao final, apresentar um breve resumo dos resultados obtidos para evidenciar que todos os requisitos foram atendidos.  "
   ],
   "id": "bfadd7aa567531f2"
  },
  {
   "metadata": {},
   "cell_type": "markdown",
   "source": [
    "<div style=\"text-align: center;\"> <h3>Conclusão</h3> </div>\n",
    "\n",
    "Este plano garante uma implementação completa dos requisitos do desafio, integrando coleta de informações pessoais e de interesse em e-sports, validação de identidade baseada em IA, simulação de integração social e enriquecimento de perfil com dados externos. A organização em seções claras, o uso de bibliotecas especializadas (ex: **Streamlit/ipywidgets** para interfaces, **OpenCV/face_recognition** para validação, **transformers/spaCy** para IA, **pandas** para dados) e as sugestões de apresentação asseguram uma entrega alinhada e de fácil acompanhamento, mesmo no formato de notebook."
   ],
   "id": "ab37fafd0bfde477"
  }
 ],
 "metadata": {
  "kernelspec": {
   "display_name": "Python 3",
   "language": "python",
   "name": "python3"
  },
  "language_info": {
   "codemirror_mode": {
    "name": "ipython",
    "version": 2
   },
   "file_extension": ".py",
   "mimetype": "text/x-python",
   "name": "python",
   "nbconvert_exporter": "python",
   "pygments_lexer": "ipython2",
   "version": "2.7.6"
  }
 },
 "nbformat": 4,
 "nbformat_minor": 5
}
